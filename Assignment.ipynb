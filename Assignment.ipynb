{
 "cells": [
  {
   "cell_type": "markdown",
   "id": "4ef3bf40-9e9d-4940-a390-3c37f81dce04",
   "metadata": {},
   "source": [
    "# My Jupyter Notebook on IBM Watson Studio"
   ]
  },
  {
   "cell_type": "markdown",
   "id": "60a47279-08da-4a23-b351-4382f2b8e732",
   "metadata": {},
   "source": [
    "**Johns** <br>\n",
    "Currently a student, hoping to work in analytics "
   ]
  },
  {
   "cell_type": "markdown",
   "id": "f2df72a3-dee5-495d-bae7-26a32bd980ef",
   "metadata": {},
   "source": [
    "*I'm interested in working in Data Science because the fact that data analytics can be used to form mathematical models capable of accurate predictive capabilities is an interesting concept*"
   ]
  },
  {
   "cell_type": "markdown",
   "id": "c8870b02-0517-47e4-9c21-6ed9ea643d05",
   "metadata": {
    "tags": []
   },
   "source": [
    "### The code below will print a string"
   ]
  },
  {
   "cell_type": "code",
   "execution_count": 3,
   "id": "b50c7623-af25-44bd-9231-3fb3198a5bac",
   "metadata": {},
   "outputs": [
    {
     "name": "stdout",
     "output_type": "stream",
     "text": [
      "Hello Everyone\n"
     ]
    }
   ],
   "source": [
    "print(\"Hello Everyone\")"
   ]
  },
  {
   "cell_type": "markdown",
   "id": "57949593-14f4-460d-9a6b-24e8ff7fedd8",
   "metadata": {},
   "source": [
    "---"
   ]
  },
  {
   "cell_type": "markdown",
   "id": "b2961a16-8555-4421-8e9c-7de2ba6dc567",
   "metadata": {},
   "source": [
    "1. First\n",
    "1. Second\n",
    "1. Third"
   ]
  },
  {
   "cell_type": "markdown",
   "id": "29e62298-f206-4648-bfbb-781c041f7724",
   "metadata": {},
   "source": [
    "- First Bullet\n",
    "- Second Bullet\n",
    "- Third Bullet"
   ]
  },
  {
   "cell_type": "code",
   "execution_count": null,
   "id": "bf3eba28-6b54-458d-a01d-75bde731472f",
   "metadata": {},
   "outputs": [],
   "source": []
  }
 ],
 "metadata": {
  "kernelspec": {
   "display_name": "Python",
   "language": "python",
   "name": "conda-env-python-py"
  },
  "language_info": {
   "codemirror_mode": {
    "name": "ipython",
    "version": 3
   },
   "file_extension": ".py",
   "mimetype": "text/x-python",
   "name": "python",
   "nbconvert_exporter": "python",
   "pygments_lexer": "ipython3",
   "version": "3.7.12"
  }
 },
 "nbformat": 4,
 "nbformat_minor": 5
}
